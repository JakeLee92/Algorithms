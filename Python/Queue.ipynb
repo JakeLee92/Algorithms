{
  "nbformat": 4,
  "nbformat_minor": 0,
  "metadata": {
    "kernelspec": {
      "display_name": "Python 3",
      "language": "python",
      "name": "python3"
    },
    "language_info": {
      "codemirror_mode": {
        "name": "ipython",
        "version": 3
      },
      "file_extension": ".py",
      "mimetype": "text/x-python",
      "name": "python",
      "nbconvert_exporter": "python",
      "pygments_lexer": "ipython3",
      "version": "3.7.2"
    },
    "nbTranslate": {
      "displayLangs": [
        "*"
      ],
      "hotkey": "alt-t",
      "langInMainMenu": true,
      "sourceLang": "en",
      "targetLang": "fr",
      "useGoogleTranslate": true
    },
    "colab": {
      "name": "Chapter05-ť-live.ipynb",
      "provenance": [],
      "include_colab_link": true
    }
  },
  "cells": [
    {
      "cell_type": "markdown",
      "metadata": {
        "id": "view-in-github",
        "colab_type": "text"
      },
      "source": [
        "<a href=\"https://colab.research.google.com/github/JakeLee92/Algorithms/blob/master/Python/Queue.ipynb\" target=\"_parent\"><img src=\"https://colab.research.google.com/assets/colab-badge.svg\" alt=\"Open In Colab\"/></a>"
      ]
    },
    {
      "cell_type": "markdown",
      "metadata": {
        "id": "1EIr1FYPTvB3"
      },
      "source": [
        "## 대표적인 데이터 구조4: 큐 (Queue)\n",
        "\n",
        "### 1. 큐 구조\n",
        "* 줄을 서는 행위와 유사\n",
        "* 가장 먼저 넣은 데이터를 가장 먼저 꺼낼 수 있는 구조\n",
        "  - 음식점에서 가장 먼저 줄을 선 사람이 제일 먼저 음식점에 입장하는 것과 동일\n",
        "  - FIFO(First-In, First-Out) 또는 LILO(Last-In, Last-Out) 방식으로 스택과 꺼내는 순서가 반대\n",
        "  \n",
        "<img src=\"https://www.fun-coding.org/00_Images/queue.png\" />\n",
        "* 출처: http://www.stoimen.com/blog/2012/06/05/computer-algorithms-stack-and-queue-data-structure/\n",
        "\n",
        "> 엑셀로 이해해보기"
      ]
    },
    {
      "cell_type": "markdown",
      "metadata": {
        "id": "9B-KUIVQTvB5"
      },
      "source": [
        "### 2. 알아둘 용어\n",
        "* Enqueue: 큐에 데이터를 넣는 기능\n",
        "* Dequeue: 큐에서 데이터를 꺼내는 기능\n",
        "* <font color='#BF360C'>Visualgo 사이트에서 시연해보며 이해하기 (enqueue/dequeue 만 클릭해보며): https://visualgo.net/en/list"
      ]
    },
    {
      "cell_type": "markdown",
      "metadata": {
        "id": "ec0L3Z99TvB5"
      },
      "source": [
        "### 3. 파이썬 queue 라이브러리 활용해서 큐 자료 구조 사용하기\n",
        "* **queue 라이브러리에는 다양한 큐 구조로 Queue(), LifoQueue(), PriorityQueue() 제공**\n",
        "* <font color='#BF360C'>프로그램을 작성할 때 프로그램에 따라 적합한 자료 구조를 사용</font>\n",
        "  - Queue(): 가장 일반적인 큐 자료 구조\n",
        "  - LifoQueue(): 나중에 입력된 데이터가 먼저 출력되는 구조 (스택 구조라고 보면 됨)\n",
        "  - PriorityQueue(): 데이터마다 우선순위를 넣어서, 우선순위가 높은 순으로 데이터 출력\n",
        "  \n",
        "> 일반적인 큐 외에 다양한 정책이 적용된 큐들이 있음"
      ]
    },
    {
      "cell_type": "markdown",
      "metadata": {
        "id": "h1CFWNzDTvB6"
      },
      "source": [
        "#### 3.1. Queue()로 큐 만들기 (가장 일반적인 큐, FIFO(First-In, First-Out))"
      ]
    },
    {
      "cell_type": "code",
      "metadata": {
        "id": "5nAjrWy6TvB6"
      },
      "source": [
        "import queue\n",
        "\n",
        "data_queue = queue.Queue()"
      ],
      "execution_count": null,
      "outputs": []
    },
    {
      "cell_type": "code",
      "metadata": {
        "id": "aHX4ps45TvB6"
      },
      "source": [
        "data_queue.put(\"funcoding\")\n",
        "data_queue.put(1)"
      ],
      "execution_count": null,
      "outputs": []
    },
    {
      "cell_type": "code",
      "metadata": {
        "id": "ScZwvi-dTvB6",
        "outputId": "f8201d75-e857-4266-e091-d194135c5e8e"
      },
      "source": [
        "data_queue.qsize()"
      ],
      "execution_count": null,
      "outputs": [
        {
          "output_type": "execute_result",
          "data": {
            "text/plain": [
              "2"
            ]
          },
          "metadata": {
            "tags": []
          },
          "execution_count": 3
        }
      ]
    },
    {
      "cell_type": "code",
      "metadata": {
        "id": "Lls2cAJrTvB7",
        "outputId": "6988ee22-fbab-447f-bda7-d37b17bbfcee"
      },
      "source": [
        "data_queue.get()"
      ],
      "execution_count": null,
      "outputs": [
        {
          "output_type": "execute_result",
          "data": {
            "text/plain": [
              "'funcoding'"
            ]
          },
          "metadata": {
            "tags": []
          },
          "execution_count": 4
        }
      ]
    },
    {
      "cell_type": "code",
      "metadata": {
        "id": "waZEQV0QTvB7",
        "outputId": "407a5e60-78a4-4e9e-f52a-8e7a15d249c9"
      },
      "source": [
        "data_queue.qsize()"
      ],
      "execution_count": null,
      "outputs": [
        {
          "output_type": "execute_result",
          "data": {
            "text/plain": [
              "0"
            ]
          },
          "metadata": {
            "tags": []
          },
          "execution_count": 7
        }
      ]
    },
    {
      "cell_type": "code",
      "metadata": {
        "id": "uJpB0AWBTvB8",
        "outputId": "01fab3c1-6d1c-4b61-8a01-ad7afc9cc75d"
      },
      "source": [
        "data_queue.get()"
      ],
      "execution_count": null,
      "outputs": [
        {
          "output_type": "execute_result",
          "data": {
            "text/plain": [
              "1"
            ]
          },
          "metadata": {
            "tags": []
          },
          "execution_count": 6
        }
      ]
    },
    {
      "cell_type": "markdown",
      "metadata": {
        "id": "AUwmKdrtTvB8"
      },
      "source": [
        "#### 3.2. LifoQueue()로 큐 만들기 (LIFO(Last-In, First-Out))"
      ]
    },
    {
      "cell_type": "code",
      "metadata": {
        "id": "OPXvhjHJTvB9"
      },
      "source": [
        "import queue\n",
        "data_queue = queue.LifoQueue()"
      ],
      "execution_count": null,
      "outputs": []
    },
    {
      "cell_type": "code",
      "metadata": {
        "id": "I3z84gFnTvB9"
      },
      "source": [
        "data_queue.put(\"funcoding\")\n",
        "data_queue.put(1)"
      ],
      "execution_count": null,
      "outputs": []
    },
    {
      "cell_type": "code",
      "metadata": {
        "id": "CME24U5wTvB9",
        "outputId": "eb13d49b-2bc9-4914-fa2e-d6f55f60d025"
      },
      "source": [
        "data_queue.qsize()"
      ],
      "execution_count": null,
      "outputs": [
        {
          "output_type": "execute_result",
          "data": {
            "text/plain": [
              "2"
            ]
          },
          "metadata": {
            "tags": []
          },
          "execution_count": 11
        }
      ]
    },
    {
      "cell_type": "code",
      "metadata": {
        "id": "Z_GHleJpTvB9",
        "outputId": "5034b481-128d-480c-c8c4-2184e93e065f"
      },
      "source": [
        "data_queue.get()"
      ],
      "execution_count": null,
      "outputs": [
        {
          "output_type": "execute_result",
          "data": {
            "text/plain": [
              "1"
            ]
          },
          "metadata": {
            "tags": []
          },
          "execution_count": 12
        }
      ]
    },
    {
      "cell_type": "markdown",
      "metadata": {
        "id": "B-eY-n0uTvB-"
      },
      "source": [
        "#### 3.3. PriorityQueue()로 큐 만들기"
      ]
    },
    {
      "cell_type": "code",
      "metadata": {
        "id": "hm2pjUviTvB-"
      },
      "source": [
        "import queue\n",
        "\n",
        "data_queue = queue.PriorityQueue()"
      ],
      "execution_count": null,
      "outputs": []
    },
    {
      "cell_type": "code",
      "metadata": {
        "id": "ITt1AzuRTvB-"
      },
      "source": [
        "data_queue.put((10, \"korea\"))\n",
        "data_queue.put((5, 1))\n",
        "data_queue.put((15, \"china\"))"
      ],
      "execution_count": null,
      "outputs": []
    },
    {
      "cell_type": "code",
      "metadata": {
        "id": "KLf0rEoeTvB-",
        "outputId": "3adfd1fe-e96a-442f-80c4-b5cadb7e07f9"
      },
      "source": [
        "data_queue.qsize()"
      ],
      "execution_count": null,
      "outputs": [
        {
          "output_type": "execute_result",
          "data": {
            "text/plain": [
              "3"
            ]
          },
          "metadata": {
            "tags": []
          },
          "execution_count": 17
        }
      ]
    },
    {
      "cell_type": "code",
      "metadata": {
        "id": "XNwPKZK9TvB_",
        "outputId": "54e46f33-6729-46de-f61f-8ae41b6c23f8"
      },
      "source": [
        "data_queue.get()"
      ],
      "execution_count": null,
      "outputs": [
        {
          "output_type": "execute_result",
          "data": {
            "text/plain": [
              "(5, 1)"
            ]
          },
          "metadata": {
            "tags": []
          },
          "execution_count": 18
        }
      ]
    },
    {
      "cell_type": "code",
      "metadata": {
        "id": "SW6M4JlTTvCA",
        "outputId": "e626a86e-7c29-451c-bf0b-1ac849598705"
      },
      "source": [
        "data_queue.get()"
      ],
      "execution_count": null,
      "outputs": [
        {
          "output_type": "execute_result",
          "data": {
            "text/plain": [
              "(10, 'korea')"
            ]
          },
          "metadata": {
            "tags": []
          },
          "execution_count": 19
        }
      ]
    },
    {
      "cell_type": "markdown",
      "metadata": {
        "id": "vaWxiWJqTvCA"
      },
      "source": [
        "### 참고: 어디에 큐가 많이 쓰일까?\n",
        "- 멀티 태스킹을 위한 프로세스 스케쥴링 방식을 구현하기 위해 많이 사용됨 (운영체제 참조)\n",
        "\n",
        "> 큐의 경우에는 장단점 보다는 (특별히 언급되는 장단점이 없음), 큐의 활용 예로 프로세스 스케쥴링 방식을 함께 이해해두는 것이 좋음"
      ]
    },
    {
      "cell_type": "markdown",
      "metadata": {
        "id": "6fuE35YrTvCB"
      },
      "source": [
        "### 4. 프로그래밍 연습 "
      ]
    },
    {
      "cell_type": "markdown",
      "metadata": {
        "id": "R22hmDttTvCB"
      },
      "source": [
        "<div class=\"alert alert-block alert-warning\">\n",
        "<strong><font color=\"blue\" size=\"3em\">연습1: 리스트 변수로 큐를 다루는 enqueue, dequeue 기능 구현해보기</font></strong>\n",
        "</div>"
      ]
    },
    {
      "cell_type": "code",
      "metadata": {
        "id": "SG3MS59ZTvCB"
      },
      "source": [
        "queue_list = list()\n",
        "\n",
        "def enqueue(data):\n",
        "    queue_list.append(data)\n",
        "    \n",
        "def dequeue():\n",
        "    data = queue_list[0]\n",
        "    del queue_list[0]\n",
        "    return data"
      ],
      "execution_count": 5,
      "outputs": []
    },
    {
      "cell_type": "code",
      "metadata": {
        "id": "i67fsWfsTvCB"
      },
      "source": [
        "for index in range(10):\n",
        "    enqueue(index)\n"
      ],
      "execution_count": 6,
      "outputs": []
    },
    {
      "cell_type": "code",
      "metadata": {
        "colab": {
          "base_uri": "https://localhost:8080/"
        },
        "id": "fCpXZPyUTvCB",
        "outputId": "969af526-1d00-4aab-f7d2-7c47fc271961"
      },
      "source": [
        "len(queue_list)"
      ],
      "execution_count": 7,
      "outputs": [
        {
          "output_type": "execute_result",
          "data": {
            "text/plain": [
              "10"
            ]
          },
          "metadata": {
            "tags": []
          },
          "execution_count": 7
        }
      ]
    },
    {
      "cell_type": "code",
      "metadata": {
        "colab": {
          "base_uri": "https://localhost:8080/"
        },
        "id": "M_MkN18STvCC",
        "outputId": "cd76f4e2-4c46-42d2-ea98-b1d4af50e4ee"
      },
      "source": [
        "dequeue()"
      ],
      "execution_count": 8,
      "outputs": [
        {
          "output_type": "execute_result",
          "data": {
            "text/plain": [
              "0"
            ]
          },
          "metadata": {
            "tags": []
          },
          "execution_count": 8
        }
      ]
    },
    {
      "cell_type": "markdown",
      "metadata": {
        "id": "TP-xaTbDTvCC"
      },
      "source": [
        "### 쉬어가기: https://youtu.be/u6RoU-SDpYE"
      ]
    },
    {
      "cell_type": "code",
      "metadata": {
        "id": "kZzQkJtxYxwR"
      },
      "source": [
        "import queue as que\n",
        "\n",
        "queue_list = que.Queue()\n",
        "\n",
        "queue_list.put(\"Hi\")\n",
        "queue_list.put(\"My\")\n",
        "queue_list.put(\"Name\")\n",
        "queue_list.put(\"is\")\n",
        "queue_list.put(\"INGYU\")\n",
        "queue_list.put(\"LEE\")\n"
      ],
      "execution_count": 15,
      "outputs": []
    },
    {
      "cell_type": "code",
      "metadata": {
        "colab": {
          "base_uri": "https://localhost:8080/"
        },
        "id": "dw8LUPlIY2c1",
        "outputId": "3b9288dd-b3dc-4a4b-a8d6-d5b558053cc3"
      },
      "source": [
        "for index in range(queue_list.qsize()) :\n",
        "  print(queue_list.get())"
      ],
      "execution_count": 13,
      "outputs": [
        {
          "output_type": "stream",
          "text": [
            "Hi\n",
            "My\n",
            "Name\n",
            "is\n",
            "INGYU\n",
            "LEE\n"
          ],
          "name": "stdout"
        }
      ]
    },
    {
      "cell_type": "code",
      "metadata": {
        "colab": {
          "base_uri": "https://localhost:8080/"
        },
        "id": "fIe63muTZyPh",
        "outputId": "01b8732f-ac37-461a-a10b-b59414c9e1ae"
      },
      "source": [
        "queue_list.qsize()"
      ],
      "execution_count": 14,
      "outputs": [
        {
          "output_type": "execute_result",
          "data": {
            "text/plain": [
              "0"
            ]
          },
          "metadata": {
            "tags": []
          },
          "execution_count": 14
        }
      ]
    },
    {
      "cell_type": "code",
      "metadata": {
        "colab": {
          "base_uri": "https://localhost:8080/"
        },
        "id": "jwGVHxNQaLZN",
        "outputId": "7bf86b58-921a-481a-cfff-264d9f734fa8"
      },
      "source": [
        "\n",
        "queue_priority_list = que.PriorityQueue()\n",
        "\n",
        "queue_priority_list.put((3,\"Hi\"))\n",
        "queue_priority_list.put((3,\"My\"))\n",
        "queue_priority_list.put((1,\"Name\"))\n",
        "queue_priority_list.put((6,\"is\"))\n",
        "queue_priority_list.put((22,\"INGYU\"))\n",
        "queue_priority_list.put((3,\"LEE\"))\n",
        "\n",
        "for index in range(queue_priority_list.qsize()) :\n",
        "  print(queue_priority_list.get())\n"
      ],
      "execution_count": 17,
      "outputs": [
        {
          "output_type": "stream",
          "text": [
            "(1, 'Name')\n",
            "(3, 'Hi')\n",
            "(3, 'LEE')\n",
            "(3, 'My')\n",
            "(6, 'is')\n",
            "(22, 'INGYU')\n"
          ],
          "name": "stdout"
        }
      ]
    },
    {
      "cell_type": "code",
      "metadata": {
        "id": "HR4Xi3zsabzK"
      },
      "source": [
        ""
      ],
      "execution_count": null,
      "outputs": []
    }
  ]
}