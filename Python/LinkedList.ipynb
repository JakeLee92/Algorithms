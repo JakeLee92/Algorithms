{
  "nbformat": 4,
  "nbformat_minor": 0,
  "metadata": {
    "kernelspec": {
      "display_name": "Python 3",
      "language": "python",
      "name": "python3"
    },
    "language_info": {
      "codemirror_mode": {
        "name": "ipython",
        "version": 3
      },
      "file_extension": ".py",
      "mimetype": "text/x-python",
      "name": "python",
      "nbconvert_exporter": "python",
      "pygments_lexer": "ipython3",
      "version": "3.7.2"
    },
    "nbTranslate": {
      "displayLangs": [
        "*"
      ],
      "hotkey": "alt-t",
      "langInMainMenu": true,
      "sourceLang": "en",
      "targetLang": "fr",
      "useGoogleTranslate": true
    },
    "colab": {
      "name": "Chapter07-링크드 리스트-live.ipynb",
      "provenance": [],
      "collapsed_sections": [],
      "include_colab_link": true
    }
  },
  "cells": [
    {
      "cell_type": "markdown",
      "metadata": {
        "id": "view-in-github",
        "colab_type": "text"
      },
      "source": [
        "<a href=\"https://colab.research.google.com/github/JakeLee92/Algorithms/blob/master/Python/LinkedList.ipynb\" target=\"_parent\"><img src=\"https://colab.research.google.com/assets/colab-badge.svg\" alt=\"Open In Colab\"/></a>"
      ]
    },
    {
      "cell_type": "markdown",
      "metadata": {
        "id": "_hSfyWIdFvk5"
      },
      "source": [
        "## 대표적인 데이터 구조: 링크드 리스트 (Linked List)"
      ]
    },
    {
      "cell_type": "markdown",
      "metadata": {
        "id": "6xODq4-uFvk_"
      },
      "source": [
        "### 1. 링크드 리스트 (Linked List) 구조\n",
        "* 연결 리스트라고도 함\n",
        "* 배열은 순차적으로 연결된 공간에 데이터를 나열하는 데이터 구조\n",
        "* 링크드 리스트는 떨어진 곳에 존재하는 데이터를 화살표로 연결해서 관리하는 데이터 구조\n",
        "* <font color='#BF360C'>본래 C언어에서는 주요한 데이터 구조이지만, 파이썬은 리스트 타입이 링크드 리스트의 기능을 모두 지원</font>"
      ]
    },
    {
      "cell_type": "markdown",
      "metadata": {
        "id": "kPrGYYzXFvk_"
      },
      "source": [
        "* 링크드 리스트 기본 구조와 용어\n",
        "  - 노드(Node): 데이터 저장 단위 (데이터값, 포인터) 로 구성\n",
        "  - 포인터(pointer): 각 노드 안에서, 다음이나 이전의 노드와의 연결 정보를 가지고 있는 공간\n",
        "\n",
        "<br>\n",
        "* 일반적인 링크드 리스트 형태\n",
        "<img src=\"https://www.fun-coding.org/00_Images/linkedlist.png\" />\n",
        "(출처: wikipedia, https://en.wikipedia.org/wiki/Linked_list)"
      ]
    },
    {
      "cell_type": "markdown",
      "metadata": {
        "id": "8Cx9J0pdFvlA"
      },
      "source": [
        "### 2. 간단한 링크드 리스트 예"
      ]
    },
    {
      "cell_type": "markdown",
      "metadata": {
        "id": "etZKuanOFvlA"
      },
      "source": [
        "#### Node 구현\n",
        "- 보통 파이썬에서 링크드 리스트 구현시, 파이썬 클래스를 활용함\n",
        "  - 파이썬 객체지향 문법 이해 필요\n",
        "  - 참고: https://www.fun-coding.org/PL&OOP1-3.html"
      ]
    },
    {
      "cell_type": "code",
      "metadata": {
        "id": "vUDoyYMOFvlA"
      },
      "source": [
        "class Node:\n",
        "    def __init__(self, data):\n",
        "        self.data = data\n",
        "        self.next = None"
      ],
      "execution_count": 1,
      "outputs": []
    },
    {
      "cell_type": "code",
      "metadata": {
        "id": "y2MgSPJNFvlB"
      },
      "source": [
        "class Node:\n",
        "    def __init__(self, data, next=None):\n",
        "        self.data = data\n",
        "        self.next = next"
      ],
      "execution_count": 2,
      "outputs": []
    },
    {
      "cell_type": "markdown",
      "metadata": {
        "id": "IVkPFI3uFvlC"
      },
      "source": [
        "#### Node와 Node 연결하기 (포인터 활용)"
      ]
    },
    {
      "cell_type": "code",
      "metadata": {
        "id": "Jed3WrYUFvlC"
      },
      "source": [
        "node1 = Node(1)\n",
        "node2 = Node(2)\n",
        "node1.next = node2\n",
        "head = node1"
      ],
      "execution_count": 3,
      "outputs": []
    },
    {
      "cell_type": "markdown",
      "metadata": {
        "id": "sn4lfWEqFvlC"
      },
      "source": [
        "#### 링크드 리스트로 데이터 추가하기"
      ]
    },
    {
      "cell_type": "code",
      "metadata": {
        "id": "fU-Qwn_wFvlC"
      },
      "source": [
        "class Node:\n",
        "    def __init__(self, data, next=None):\n",
        "        self.data = data\n",
        "        self.next = next\n",
        "\n",
        "def add(data):\n",
        "    node = head\n",
        "    while node.next:\n",
        "        node = node.next\n",
        "    node.next = Node(data) "
      ],
      "execution_count": 4,
      "outputs": []
    },
    {
      "cell_type": "code",
      "metadata": {
        "id": "00tQakl_FvlD"
      },
      "source": [
        "node1 = Node(1)\n",
        "head = node1\n",
        "for index in range(2, 10):\n",
        "    add(index)"
      ],
      "execution_count": 5,
      "outputs": []
    },
    {
      "cell_type": "markdown",
      "metadata": {
        "id": "msp3-YTjFvlD"
      },
      "source": [
        "#### 링크드 리스트 데이터 출력하기(검색하기)"
      ]
    },
    {
      "cell_type": "code",
      "metadata": {
        "colab": {
          "base_uri": "https://localhost:8080/"
        },
        "id": "jLLz_rriFvlD",
        "outputId": "ea02e777-f94f-409e-a8db-23c78024fc78"
      },
      "source": [
        "node = head\n",
        "while node.next:\n",
        "    print(node.data)\n",
        "    node = node.next\n",
        "print (node.data)"
      ],
      "execution_count": 6,
      "outputs": [
        {
          "output_type": "stream",
          "text": [
            "1\n",
            "2\n",
            "3\n",
            "4\n",
            "5\n",
            "6\n",
            "7\n",
            "8\n",
            "9\n"
          ],
          "name": "stdout"
        }
      ]
    },
    {
      "cell_type": "markdown",
      "metadata": {
        "id": "UmlR3Jm_FvlE"
      },
      "source": [
        "### 3. 링크드 리스트의 장단점 (전통적인 C언어에서의 배열과 링크드 리스트)\n",
        "* 장점\n",
        "  - 미리 데이터 공간을 미리 할당하지 않아도 됨\n",
        "    - 배열은 **미리 데이터 공간을 할당** 해야 함\n",
        "* 단점\n",
        "  - 연결을 위한 별도 데이터 공간이 필요하므로, 저장공간 효율이 높지 않음\n",
        "  - 연결 정보를 찾는 시간이 필요하므로 접근 속도가 느림\n",
        "  - 중간 데이터 삭제시, 앞뒤 데이터의 연결을 재구성해야 하는 부가적인 작업 필요"
      ]
    },
    {
      "cell_type": "markdown",
      "metadata": {
        "id": "qDRoV6DzFvlE"
      },
      "source": [
        "### 4. 링크드 리스트의 복잡한 기능1 (링크드 리스트 데이터 사이에 데이터를 추가)\n",
        "- 링크드 리스트는 유지 관리에 부가적인 구현이 필요함\n",
        "\n",
        "<img src=\"https://www.fun-coding.org/00_Images/linkedlistadd.png\" />\n",
        "(출처: wikipedia, https://en.wikipedia.org/wiki/Linked_list)"
      ]
    },
    {
      "cell_type": "code",
      "metadata": {
        "colab": {
          "base_uri": "https://localhost:8080/"
        },
        "id": "zVX4mDL-FvlF",
        "outputId": "9bfe406d-97b1-47dc-9d09-8880a44c62eb"
      },
      "source": [
        "node = head\n",
        "while node.next:\n",
        "    print(node.data)\n",
        "    node = node.next\n",
        "print (node.data)"
      ],
      "execution_count": 7,
      "outputs": [
        {
          "output_type": "stream",
          "text": [
            "1\n",
            "2\n",
            "3\n",
            "4\n",
            "5\n",
            "6\n",
            "7\n",
            "8\n",
            "9\n"
          ],
          "name": "stdout"
        }
      ]
    },
    {
      "cell_type": "code",
      "metadata": {
        "id": "RSRITaKOFvlF"
      },
      "source": [
        "node3 = Node(1.5)"
      ],
      "execution_count": 8,
      "outputs": []
    },
    {
      "cell_type": "code",
      "metadata": {
        "id": "5lhkKIGgFvlF"
      },
      "source": [
        "node = head\n",
        "search = True\n",
        "while search:\n",
        "    if node.data == 1:\n",
        "        search = False\n",
        "    else:\n",
        "        node = node.next\n",
        "\n",
        "node_next = node.next\n",
        "node.next = node3\n",
        "node3.next = node_next"
      ],
      "execution_count": 9,
      "outputs": []
    },
    {
      "cell_type": "code",
      "metadata": {
        "colab": {
          "base_uri": "https://localhost:8080/"
        },
        "id": "XVluC-QUFvlF",
        "outputId": "93176d36-b946-4c7a-dd5d-5bcb3d3f0647"
      },
      "source": [
        "node = head\n",
        "while node.next:\n",
        "    print(node.data)\n",
        "    node = node.next\n",
        "print (node.data)"
      ],
      "execution_count": 10,
      "outputs": [
        {
          "output_type": "stream",
          "text": [
            "1\n",
            "1.5\n",
            "2\n",
            "3\n",
            "4\n",
            "5\n",
            "6\n",
            "7\n",
            "8\n",
            "9\n"
          ],
          "name": "stdout"
        }
      ]
    },
    {
      "cell_type": "markdown",
      "metadata": {
        "id": "Q7vi7eYVFvlG"
      },
      "source": [
        "### 5. 파이썬 객체지향 프로그래밍으로 링크드 리스트 구현하기"
      ]
    },
    {
      "cell_type": "code",
      "metadata": {
        "id": "ZnJvZhAYFvlG"
      },
      "source": [
        "class Node:\n",
        "    def __init__(self, data, next=None):\n",
        "        self.data = data\n",
        "        self.next = next\n",
        "    \n",
        "class NodeMgmt:\n",
        "    def __init__(self, data):\n",
        "        self.head = Node(data)\n",
        "        \n",
        "    def add(self, data):\n",
        "        if self.head == '':\n",
        "            self.head = Node(data)\n",
        "        else:\n",
        "            node = self.head\n",
        "            while node.next:\n",
        "                node = node.next\n",
        "            node.next = Node(data)\n",
        "        \n",
        "    def desc(self):\n",
        "        node = self.head\n",
        "        while node:\n",
        "            print (node.data)\n",
        "            node = node.next"
      ],
      "execution_count": 11,
      "outputs": []
    },
    {
      "cell_type": "code",
      "metadata": {
        "colab": {
          "base_uri": "https://localhost:8080/"
        },
        "id": "ymouu5A9FvlG",
        "outputId": "47f0373b-278b-4e71-9f8d-1f3122555be8"
      },
      "source": [
        "linkedlist1 = NodeMgmt(0)\n",
        "linkedlist1.desc()"
      ],
      "execution_count": 12,
      "outputs": [
        {
          "output_type": "stream",
          "text": [
            "0\n"
          ],
          "name": "stdout"
        }
      ]
    },
    {
      "cell_type": "code",
      "metadata": {
        "colab": {
          "base_uri": "https://localhost:8080/"
        },
        "id": "yty-hfudFvlG",
        "outputId": "a4d48664-59a3-4d40-bdbc-9a3d726d3041"
      },
      "source": [
        "for data in range(1, 10):\n",
        "    linkedlist1.add(data)\n",
        "linkedlist1.desc()"
      ],
      "execution_count": 13,
      "outputs": [
        {
          "output_type": "stream",
          "text": [
            "0\n",
            "1\n",
            "2\n",
            "3\n",
            "4\n",
            "5\n",
            "6\n",
            "7\n",
            "8\n",
            "9\n"
          ],
          "name": "stdout"
        }
      ]
    },
    {
      "cell_type": "markdown",
      "metadata": {
        "id": "ARmEDzTnFvlH"
      },
      "source": [
        "### 6. 링크드 리스트의 복잡한 기능2 (특정 노드를 삭제)\n",
        "* 다음 코드는 위의 코드에서 delete 메서드만 추가한 것이므로 해당 메서드만 확인하면 됨"
      ]
    },
    {
      "cell_type": "code",
      "metadata": {
        "id": "6YIfaTk-FvlH"
      },
      "source": [
        "class Node:\n",
        "    def __init__(self, data, next=None):\n",
        "        self.data = data\n",
        "        self.next = next\n",
        "    \n",
        "class NodeMgmt:\n",
        "    def __init__(self, data):\n",
        "        self.head = Node(data)\n",
        "        \n",
        "    def add(self, data):\n",
        "        if self.head == '':\n",
        "            self.head = Node(data)\n",
        "        else:\n",
        "            node = self.head\n",
        "            while node.next:\n",
        "                node = node.next\n",
        "            node.next = Node(data)\n",
        "        \n",
        "    def desc(self):\n",
        "        node = self.head\n",
        "        while node:\n",
        "            print (node.data)\n",
        "            node = node.next\n",
        "    \n",
        "    def delete(self, data):\n",
        "        if self.head == '':\n",
        "            print (\"해당 값을 가진 노드가 없습니다.\")\n",
        "            return\n",
        "        \n",
        "        if self.head.data == data:\n",
        "            temp = self.head\n",
        "            self.head = self.head.next\n",
        "            del temp\n",
        "        else:\n",
        "            node = self.head\n",
        "            while node.next:\n",
        "                if node.next.data == data:\n",
        "                    temp = node.next\n",
        "                    node.next = node.next.next\n",
        "                    del temp\n",
        "                    return\n",
        "                else:\n",
        "                    node = node.next"
      ],
      "execution_count": 14,
      "outputs": []
    },
    {
      "cell_type": "markdown",
      "metadata": {
        "id": "5c6mngxkFvlH"
      },
      "source": [
        "#### 테스트를 위해 1개 노드를 만들어 봄"
      ]
    },
    {
      "cell_type": "code",
      "metadata": {
        "colab": {
          "base_uri": "https://localhost:8080/"
        },
        "id": "crJ0pO93FvlH",
        "outputId": "4f776c88-9d9e-4f78-ea4f-025558552ea9"
      },
      "source": [
        "linkedlist1 = NodeMgmt(0)\n",
        "linkedlist1.desc()"
      ],
      "execution_count": 15,
      "outputs": [
        {
          "output_type": "stream",
          "text": [
            "0\n"
          ],
          "name": "stdout"
        }
      ]
    },
    {
      "cell_type": "markdown",
      "metadata": {
        "id": "4e7YS18KFvlI"
      },
      "source": [
        "#### head 가 살아있음을 확인"
      ]
    },
    {
      "cell_type": "code",
      "metadata": {
        "colab": {
          "base_uri": "https://localhost:8080/"
        },
        "id": "0Rb3pjKbFvlI",
        "outputId": "5f0c9b67-3b7d-4bb7-be8a-5d2db572f7cb"
      },
      "source": [
        "linkedlist1.head"
      ],
      "execution_count": 16,
      "outputs": [
        {
          "output_type": "execute_result",
          "data": {
            "text/plain": [
              "<__main__.Node at 0x7fd94148d898>"
            ]
          },
          "metadata": {
            "tags": []
          },
          "execution_count": 16
        }
      ]
    },
    {
      "cell_type": "markdown",
      "metadata": {
        "id": "hGtY6zmnFvlI"
      },
      "source": [
        "#### head 를 지워봄(위에서 언급한 경우의 수1)"
      ]
    },
    {
      "cell_type": "code",
      "metadata": {
        "id": "FEkw2-bZFvlI"
      },
      "source": [
        "linkedlist1.delete(0)"
      ],
      "execution_count": 17,
      "outputs": []
    },
    {
      "cell_type": "markdown",
      "metadata": {
        "id": "TJnYBCpKFvlI"
      },
      "source": [
        "#### 다음 코드 실행시 아무것도 안나온다는 것은 linkedlist1.head 가 정상적으로 삭제되었음을 의미"
      ]
    },
    {
      "cell_type": "code",
      "metadata": {
        "id": "mPrT6gHxFvlI"
      },
      "source": [
        "linkedlist1.head"
      ],
      "execution_count": 18,
      "outputs": []
    },
    {
      "cell_type": "markdown",
      "metadata": {
        "id": "ndynvzAqFvlJ"
      },
      "source": [
        "#### 다시 하나의 노드를 만들어봄"
      ]
    },
    {
      "cell_type": "code",
      "metadata": {
        "colab": {
          "base_uri": "https://localhost:8080/"
        },
        "id": "jxDLQTyCFvlJ",
        "outputId": "3b7804ff-2c08-4c8b-8d80-689c38c27f1e"
      },
      "source": [
        "linkedlist1 = NodeMgmt(0)\n",
        "linkedlist1.desc()"
      ],
      "execution_count": 19,
      "outputs": [
        {
          "output_type": "stream",
          "text": [
            "0\n"
          ],
          "name": "stdout"
        }
      ]
    },
    {
      "cell_type": "markdown",
      "metadata": {
        "id": "MoJSJ6XAFvlJ"
      },
      "source": [
        "#### 이번엔 여러 노드를 더 추가해봄"
      ]
    },
    {
      "cell_type": "code",
      "metadata": {
        "colab": {
          "base_uri": "https://localhost:8080/"
        },
        "id": "HjtUtdA5FvlJ",
        "outputId": "953618c9-29c9-4e3f-c84b-10d471056e71"
      },
      "source": [
        "for data in range(1, 10):\n",
        "    linkedlist1.add(data)\n",
        "linkedlist1.desc()"
      ],
      "execution_count": 20,
      "outputs": [
        {
          "output_type": "stream",
          "text": [
            "0\n",
            "1\n",
            "2\n",
            "3\n",
            "4\n",
            "5\n",
            "6\n",
            "7\n",
            "8\n",
            "9\n"
          ],
          "name": "stdout"
        }
      ]
    },
    {
      "cell_type": "markdown",
      "metadata": {
        "id": "kqzUjIjPFvlJ"
      },
      "source": [
        "#### 노드 중에 한개를 삭제함 (위에서 언급한 경우의 수2)"
      ]
    },
    {
      "cell_type": "code",
      "metadata": {
        "id": "d3qfvS6eFvlJ"
      },
      "source": [
        "linkedlist1.delete(4)"
      ],
      "execution_count": 21,
      "outputs": []
    },
    {
      "cell_type": "markdown",
      "metadata": {
        "id": "wXb9POZWFvlK"
      },
      "source": [
        "#### 특정 노드가 삭제되었음을 알 수 있음"
      ]
    },
    {
      "cell_type": "code",
      "metadata": {
        "colab": {
          "base_uri": "https://localhost:8080/"
        },
        "id": "P6hkwQgvFvlK",
        "outputId": "c715f781-bca6-43cc-a237-1a7cca9a7f3e"
      },
      "source": [
        "linkedlist1.desc()"
      ],
      "execution_count": 22,
      "outputs": [
        {
          "output_type": "stream",
          "text": [
            "0\n",
            "1\n",
            "2\n",
            "3\n",
            "5\n",
            "6\n",
            "7\n",
            "8\n",
            "9\n"
          ],
          "name": "stdout"
        }
      ]
    },
    {
      "cell_type": "code",
      "metadata": {
        "id": "HYRpe7lnFvlK"
      },
      "source": [
        "linkedlist1.delete(9)"
      ],
      "execution_count": 23,
      "outputs": []
    },
    {
      "cell_type": "code",
      "metadata": {
        "colab": {
          "base_uri": "https://localhost:8080/"
        },
        "id": "4uFMSva7FvlK",
        "outputId": "644e7fd6-42fb-4ee1-a6f8-4904db987666"
      },
      "source": [
        "linkedlist1.desc()"
      ],
      "execution_count": 24,
      "outputs": [
        {
          "output_type": "stream",
          "text": [
            "0\n",
            "1\n",
            "2\n",
            "3\n",
            "5\n",
            "6\n",
            "7\n",
            "8\n"
          ],
          "name": "stdout"
        }
      ]
    },
    {
      "cell_type": "markdown",
      "metadata": {
        "id": "4zETH2iHFvlK"
      },
      "source": [
        "<div class=\"alert alert-block alert-warning\">\n",
        "<strong><font color=\"blue\" size=\"3em\">연습1: 위 코드에서 노드 데이터가 2인 노드 삭제해보기</font></strong>\n",
        "</div>"
      ]
    },
    {
      "cell_type": "code",
      "metadata": {
        "colab": {
          "base_uri": "https://localhost:8080/",
          "height": 181
        },
        "id": "kQJBwsUlFvlL",
        "outputId": "2579cca4-8d53-4ff4-cbdd-b77025d5a55e"
      },
      "source": [
        "node_mgmt.delete(2)\n",
        "node_mgmt.desc()"
      ],
      "execution_count": 25,
      "outputs": [
        {
          "output_type": "error",
          "ename": "NameError",
          "evalue": "ignored",
          "traceback": [
            "\u001b[0;31m---------------------------------------------------------------------------\u001b[0m",
            "\u001b[0;31mNameError\u001b[0m                                 Traceback (most recent call last)",
            "\u001b[0;32m<ipython-input-25-cef6ec1904a8>\u001b[0m in \u001b[0;36m<module>\u001b[0;34m()\u001b[0m\n\u001b[0;32m----> 1\u001b[0;31m \u001b[0mnode_mgmt\u001b[0m\u001b[0;34m.\u001b[0m\u001b[0mdelete\u001b[0m\u001b[0;34m(\u001b[0m\u001b[0;36m2\u001b[0m\u001b[0;34m)\u001b[0m\u001b[0;34m\u001b[0m\u001b[0;34m\u001b[0m\u001b[0m\n\u001b[0m\u001b[1;32m      2\u001b[0m \u001b[0mnode_mgmt\u001b[0m\u001b[0;34m.\u001b[0m\u001b[0mdesc\u001b[0m\u001b[0;34m(\u001b[0m\u001b[0;34m)\u001b[0m\u001b[0;34m\u001b[0m\u001b[0;34m\u001b[0m\u001b[0m\n",
            "\u001b[0;31mNameError\u001b[0m: name 'node_mgmt' is not defined"
          ]
        }
      ]
    },
    {
      "cell_type": "markdown",
      "metadata": {
        "id": "n7Lhaq1XFvlL"
      },
      "source": [
        "<div class=\"alert alert-block alert-warning\">\n",
        "<strong><font color=\"blue\" size=\"3em\">연습2: 위 코드에서 노드 데이터가 특정 숫자인 노드를 찾는 함수를 만들고, 테스트해보기</font></strong><br>\n",
        "테스트: 임의로 1 ~ 9까지 데이터를 링크드 리스트에 넣어보고, 데이터 값이 4인 노드의 데이터 값 출력해보기\n",
        "</div>"
      ]
    },
    {
      "cell_type": "code",
      "metadata": {
        "id": "HoDNTb7cFvlL"
      },
      "source": [
        "class Node:\n",
        "    def __init__(self, data):\n",
        "        self.data = data\n",
        "        self.next = None\n",
        "\n",
        "class NodeMgmt:\n",
        "    def __init__(self, data):\n",
        "        self.head = Node(data)\n",
        "    \n",
        "    def add(self, data):\n",
        "        if self.head == '':\n",
        "            self.head = Node(data)\n",
        "        else:\n",
        "            node = self.head\n",
        "            while node.next:\n",
        "                node = node.next\n",
        "            node.next = Node(data)\n",
        "\n",
        "    def desc(self):\n",
        "        node = self.head\n",
        "        while node:\n",
        "            print (node.data)\n",
        "            node = node.next\n",
        "\n",
        "    def delete(self, data):\n",
        "        if self.head == '':\n",
        "            print ('해당 값을 가진 노드가 없습니다.')\n",
        "            return\n",
        "        if self.head.data == data: # 경우의 수1: self.head를 삭제해야할 경우 - self.head를 바꿔줘야 함\n",
        "            temp = self.head # self.head 객체를 삭제하기 위해, 임시로 temp에 담아서 객체를 삭제했음\n",
        "            self.head = self.head.next # 만약 self.head 객체를 삭제하면, 이 코드가 실행이 안되기 때문!\n",
        "            del temp\n",
        "        else:\n",
        "            node = self.head\n",
        "            while node.next: # 경우의 수2: self.head가 아닌 노드를 삭제해야할 경우\n",
        "                if node.next.data == data:\n",
        "                    temp = node.next\n",
        "                    node.next = node.next.next       \n",
        "                    del temp                         \n",
        "                    pass                             \n",
        "                else:\n",
        "                    node = node.next\n",
        "                    \n",
        "    def search_node(self, data):\n",
        "        node = self.head\n",
        "        while node:\n",
        "            if node.data == data:\n",
        "                return node\n",
        "            else:\n",
        "                node = node.next"
      ],
      "execution_count": null,
      "outputs": []
    },
    {
      "cell_type": "code",
      "metadata": {
        "id": "p6YuMS1wFvlL"
      },
      "source": [
        "# 테스트\n",
        "node_mgmt = NodeMgmt(0)\n",
        "for data in range(1, 10):\n",
        "    node_mgmt.add(data)\n",
        "\n",
        "node = node_mgmt.search_node(4)\n",
        "print (node.data)"
      ],
      "execution_count": null,
      "outputs": []
    },
    {
      "cell_type": "markdown",
      "metadata": {
        "id": "zioTgYa4FvlM"
      },
      "source": [
        "### 7. 다양한 링크드 리스트 구조 \n",
        "* 더블 링크드 리스트(Doubly linked list) 기본 구조 \n",
        "  - 이중 연결 리스트라고도 함\n",
        "  - 장점: 양방향으로 연결되어 있어서 노드 탐색이 양쪽으로 모두 가능\n",
        "  <br>\n",
        "<img src=\"https://www.fun-coding.org/00_Images/doublelinkedlist.png\" />\n",
        "(출처: wikipedia, https://en.wikipedia.org/wiki/Linked_list)"
      ]
    },
    {
      "cell_type": "code",
      "metadata": {
        "id": "S02kWegOFvlM"
      },
      "source": [
        "class Node:\n",
        "    def __init__(self, data, prev=None, next=None):\n",
        "        self.prev = prev\n",
        "        self.data = data\n",
        "        self.next = next\n",
        "\n",
        "class NodeMgmt:\n",
        "    def __init__(self, data):\n",
        "        self.head = Node(data)\n",
        "        self.tail = self.head\n",
        "\n",
        "    def insert(self, data):\n",
        "        if self.head == None:\n",
        "            self.head = Node(data)\n",
        "            self.tail = self.head\n",
        "        else:\n",
        "            node = self.head\n",
        "            while node.next:\n",
        "                node = node.next\n",
        "            new = Node(data)\n",
        "            node.next = new\n",
        "            new.prev = node\n",
        "            self.tail = new\n",
        "\n",
        "    def desc(self):\n",
        "        node = self.head\n",
        "        while node:\n",
        "            print (node.data)\n",
        "            node = node.next"
      ],
      "execution_count": null,
      "outputs": []
    },
    {
      "cell_type": "code",
      "metadata": {
        "id": "ko-mce1dFvlM"
      },
      "source": [
        "double_linked_list = NodeMgmt(0)\n",
        "for data in range(1, 10):\n",
        "    double_linked_list.insert(data)\n",
        "double_linked_list.desc()"
      ],
      "execution_count": null,
      "outputs": []
    },
    {
      "cell_type": "markdown",
      "metadata": {
        "id": "IhfHLhizFvlN"
      },
      "source": [
        "<div class=\"alert alert-block alert-warning\">\n",
        "<strong><font color=\"blue\" size=\"3em\">연습3: 위 코드에서 노드 데이터가 특정 숫자인 노드 앞에 데이터를 추가하는 함수를 만들고, 테스트해보기</font></strong><br>\n",
        "- 더블 링크드 리스트의 tail 에서부터 뒤로 이동하며, 특정 숫자인 노드를 찾는 방식으로 함수를 구현하기<br>\n",
        "- 테스트: 임의로 0 ~ 9까지 데이터를 링크드 리스트에 넣어보고, 데이터 값이 2인 노드 앞에 1.5 데이터 값을 가진 노드를 추가해보기\n",
        "</div>"
      ]
    },
    {
      "cell_type": "code",
      "metadata": {
        "id": "8XH6BQ9uFvlN"
      },
      "source": [
        "class Node:\n",
        "    def __init__(self, data, prev=None, next=None):\n",
        "        self.prev = prev\n",
        "        self.data = data\n",
        "        self.next = next\n",
        "\n",
        "class NodeMgmt:\n",
        "    def __init__(self, data):\n",
        "        self.head = Node(data)\n",
        "        self.tail = self.head\n",
        "\n",
        "    def insert(self, data):\n",
        "        if self.head == None:\n",
        "            self.head = Node(data)\n",
        "            self.tail = self.head\n",
        "        else:\n",
        "            node = self.head\n",
        "            while node.next:\n",
        "                node = node.next\n",
        "            new = Node(data)\n",
        "            node.next = new\n",
        "            new.prev = node\n",
        "            self.tail = new\n",
        "\n",
        "    def desc(self):\n",
        "        node = self.head\n",
        "        while node:\n",
        "            print (node.data)\n",
        "            node = node.next\n",
        "    \n",
        "    def search_from_head(self, data):\n",
        "        if self.head == None:\n",
        "            return False\n",
        "    \n",
        "        node = self.head\n",
        "        while node:\n",
        "            if node.data == data:\n",
        "                return node\n",
        "            else:\n",
        "                node = node.next\n",
        "        return False\n",
        "    \n",
        "    def search_from_tail(self, data):\n",
        "        if self.head == None:\n",
        "            return False\n",
        "    \n",
        "        node = self.tail\n",
        "        while node:\n",
        "            if node.data == data:\n",
        "                return node\n",
        "            else:\n",
        "                node = node.prev\n",
        "        return False\n",
        "    \n",
        "    def insert_before(self, data, before_data):\n",
        "        if self.head == None:\n",
        "            self.head = Node(data)\n",
        "            return True\n",
        "        else:\n",
        "            node = self.tail\n",
        "            while node.data != before_data:\n",
        "                node = node.prev\n",
        "                if node == None:\n",
        "                    return False\n",
        "            new = Node(data)\n",
        "            before_new = node.prev\n",
        "            before_new.next = new\n",
        "            new.prev = before_new\n",
        "            new.next = node\n",
        "            node.prev = new\n",
        "            return True"
      ],
      "execution_count": null,
      "outputs": []
    },
    {
      "cell_type": "code",
      "metadata": {
        "id": "2Lvsirp8FvlN"
      },
      "source": [
        "double_linked_list = NodeMgmt(0)\n",
        "for data in range(1, 10):\n",
        "    double_linked_list.insert(data)\n",
        "double_linked_list.desc()"
      ],
      "execution_count": null,
      "outputs": []
    },
    {
      "cell_type": "code",
      "metadata": {
        "colab": {
          "base_uri": "https://localhost:8080/",
          "height": 181
        },
        "id": "69Jj0aHiFvlO",
        "outputId": "cc57dcac-2261-4733-ac1e-cafb16bf34e6"
      },
      "source": [
        "node_3 = double_linked_list.search_from_tail(3)\n",
        "node_3.data"
      ],
      "execution_count": 26,
      "outputs": [
        {
          "output_type": "error",
          "ename": "NameError",
          "evalue": "ignored",
          "traceback": [
            "\u001b[0;31m---------------------------------------------------------------------------\u001b[0m",
            "\u001b[0;31mNameError\u001b[0m                                 Traceback (most recent call last)",
            "\u001b[0;32m<ipython-input-26-0fe2d78700ea>\u001b[0m in \u001b[0;36m<module>\u001b[0;34m()\u001b[0m\n\u001b[0;32m----> 1\u001b[0;31m \u001b[0mnode_3\u001b[0m \u001b[0;34m=\u001b[0m \u001b[0mdouble_linked_list\u001b[0m\u001b[0;34m.\u001b[0m\u001b[0msearch_from_tail\u001b[0m\u001b[0;34m(\u001b[0m\u001b[0;36m3\u001b[0m\u001b[0;34m)\u001b[0m\u001b[0;34m\u001b[0m\u001b[0;34m\u001b[0m\u001b[0m\n\u001b[0m\u001b[1;32m      2\u001b[0m \u001b[0mnode_3\u001b[0m\u001b[0;34m.\u001b[0m\u001b[0mdata\u001b[0m\u001b[0;34m\u001b[0m\u001b[0;34m\u001b[0m\u001b[0m\n",
            "\u001b[0;31mNameError\u001b[0m: name 'double_linked_list' is not defined"
          ]
        }
      ]
    },
    {
      "cell_type": "code",
      "metadata": {
        "colab": {
          "base_uri": "https://localhost:8080/",
          "height": 181
        },
        "id": "xQqhJwsDFvlO",
        "outputId": "eb832294-c0c7-43d4-ec4f-8b9c18d265d9"
      },
      "source": [
        "double_linked_list.insert_before(1.5, 2)\n",
        "double_linked_list.desc()"
      ],
      "execution_count": 27,
      "outputs": [
        {
          "output_type": "error",
          "ename": "NameError",
          "evalue": "ignored",
          "traceback": [
            "\u001b[0;31m---------------------------------------------------------------------------\u001b[0m",
            "\u001b[0;31mNameError\u001b[0m                                 Traceback (most recent call last)",
            "\u001b[0;32m<ipython-input-27-c41459fe8be5>\u001b[0m in \u001b[0;36m<module>\u001b[0;34m()\u001b[0m\n\u001b[0;32m----> 1\u001b[0;31m \u001b[0mdouble_linked_list\u001b[0m\u001b[0;34m.\u001b[0m\u001b[0minsert_before\u001b[0m\u001b[0;34m(\u001b[0m\u001b[0;36m1.5\u001b[0m\u001b[0;34m,\u001b[0m \u001b[0;36m2\u001b[0m\u001b[0;34m)\u001b[0m\u001b[0;34m\u001b[0m\u001b[0;34m\u001b[0m\u001b[0m\n\u001b[0m\u001b[1;32m      2\u001b[0m \u001b[0mdouble_linked_list\u001b[0m\u001b[0;34m.\u001b[0m\u001b[0mdesc\u001b[0m\u001b[0;34m(\u001b[0m\u001b[0;34m)\u001b[0m\u001b[0;34m\u001b[0m\u001b[0;34m\u001b[0m\u001b[0m\n",
            "\u001b[0;31mNameError\u001b[0m: name 'double_linked_list' is not defined"
          ]
        }
      ]
    },
    {
      "cell_type": "code",
      "metadata": {
        "id": "JJBs68C-FvlO"
      },
      "source": [
        "node_3 = double_linked_list.search_from_tail(1.5)\n",
        "node_3.data"
      ],
      "execution_count": null,
      "outputs": []
    },
    {
      "cell_type": "markdown",
      "metadata": {
        "id": "OE7mMI-nFvlP"
      },
      "source": [
        "<div class=\"alert alert-block alert-warning\">\n",
        "<strong><font color=\"blue\" size=\"3em\">연습4: 위 코드에서 노드 데이터가 특정 숫자인 노드 뒤에 데이터를 추가하는 함수를 만들고, 테스트해보기</font></strong><br>\n",
        "- 더블 링크드 리스트의 head 에서부터 다음으로 이동하며, 특정 숫자인 노드를 찾는 방식으로 함수를 구현하기<br>\n",
        "- 테스트: 임의로 0 ~ 9까지 데이터를 링크드 리스트에 넣어보고, 데이터 값이 1인 노드 다음에 1.7 데이터 값을 가진 노드를 추가해보기\n",
        "</div>"
      ]
    },
    {
      "cell_type": "code",
      "metadata": {
        "id": "0U84LzajFvlP"
      },
      "source": [
        "class Node:\n",
        "    def __init__(self, data, prev=None, next=None):\n",
        "        self.prev = prev\n",
        "        self.data = data\n",
        "        self.next = next\n",
        "\n",
        "class NodeMgmt:\n",
        "    def __init__(self, data):\n",
        "        self.head = Node(data)\n",
        "        self.tail = self.head\n",
        "    \n",
        "    def insert_before(self, data, before_data):\n",
        "        if self.head == None:\n",
        "            self.head = Node(data)\n",
        "            return True            \n",
        "        else:\n",
        "            node = self.tail\n",
        "            while node.data != before_data:\n",
        "                node = node.prev\n",
        "                if node == None:\n",
        "                    return False\n",
        "            new = Node(data)\n",
        "            before_new = node.prev\n",
        "            before_new.next = new\n",
        "            new.next = node\n",
        "            return True\n",
        "\n",
        "    def insert_after(self, data, after_data):\n",
        "        if self.head == None:\n",
        "            self.head = Node(data)\n",
        "            return True            \n",
        "        else:\n",
        "            node = self.head\n",
        "            while node.data != after_data:\n",
        "                node = node.next\n",
        "                if node == None:\n",
        "                    return False\n",
        "            new = Node(data)\n",
        "            after_new = node.next\n",
        "            new.next = after_new\n",
        "            new.prev = node\n",
        "            node.next = new\n",
        "            if new.next == None:\n",
        "                self.tail = new\n",
        "            return True\n",
        "\n",
        "    def insert(self, data):\n",
        "        if self.head == None:\n",
        "            self.head = Node(data)\n",
        "        else:\n",
        "            node = self.head\n",
        "            while node.next:\n",
        "                node = node.next\n",
        "            new = Node(data)\n",
        "            node.next = new\n",
        "            new.prev = node\n",
        "            self.tail = new\n",
        "\n",
        "    def desc(self):\n",
        "        node = self.head\n",
        "        while node:\n",
        "            print (node.data)\n",
        "            node = node.next"
      ],
      "execution_count": 28,
      "outputs": []
    },
    {
      "cell_type": "code",
      "metadata": {
        "colab": {
          "base_uri": "https://localhost:8080/"
        },
        "id": "5c1rAThNFvlP",
        "outputId": "00c1673f-924e-4a40-b771-9ae543f119e0"
      },
      "source": [
        "node_mgmt = NodeMgmt(0)\n",
        "for data in range(1, 10):\n",
        "    node_mgmt.insert(data)\n",
        "\n",
        "node_mgmt.desc()\n",
        "\n",
        "node_mgmt.insert_after(1.5, 1)\n",
        "node_mgmt.desc()"
      ],
      "execution_count": 29,
      "outputs": [
        {
          "output_type": "stream",
          "text": [
            "0\n",
            "1\n",
            "2\n",
            "3\n",
            "4\n",
            "5\n",
            "6\n",
            "7\n",
            "8\n",
            "9\n",
            "0\n",
            "1\n",
            "1.5\n",
            "2\n",
            "3\n",
            "4\n",
            "5\n",
            "6\n",
            "7\n",
            "8\n",
            "9\n"
          ],
          "name": "stdout"
        }
      ]
    },
    {
      "cell_type": "code",
      "metadata": {
        "id": "k5mgSbUwF2tk"
      },
      "source": [
        ""
      ],
      "execution_count": 29,
      "outputs": []
    }
  ]
}