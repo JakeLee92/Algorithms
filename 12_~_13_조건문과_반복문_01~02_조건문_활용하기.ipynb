{
  "nbformat": 4,
  "nbformat_minor": 0,
  "metadata": {
    "kernelspec": {
      "display_name": "Python 3",
      "language": "python",
      "name": "python3"
    },
    "language_info": {
      "codemirror_mode": {
        "name": "ipython",
        "version": 3
      },
      "file_extension": ".py",
      "mimetype": "text/x-python",
      "name": "python",
      "nbconvert_exporter": "python",
      "pygments_lexer": "ipython3",
      "version": "3.6.5"
    },
    "colab": {
      "name": "12 ~ 13. 조건문과 반복문 - 01~02.조건문 활용하기.ipynb",
      "provenance": [],
      "collapsed_sections": [],
      "include_colab_link": true
    }
  },
  "cells": [
    {
      "cell_type": "markdown",
      "metadata": {
        "id": "view-in-github",
        "colab_type": "text"
      },
      "source": [
        "<a href=\"https://colab.research.google.com/github/JakeLee92/Algorithms/blob/master/12_~_13_%E1%84%8C%E1%85%A9%E1%84%80%E1%85%A5%E1%86%AB%E1%84%86%E1%85%AE%E1%86%AB%E1%84%80%E1%85%AA_%E1%84%87%E1%85%A1%E1%86%AB%E1%84%87%E1%85%A9%E1%86%A8%E1%84%86%E1%85%AE%E1%86%AB_01~02_%E1%84%8C%E1%85%A9%E1%84%80%E1%85%A5%E1%86%AB%E1%84%86%E1%85%AE%E1%86%AB_%E1%84%92%E1%85%AA%E1%86%AF%E1%84%8B%E1%85%AD%E1%86%BC%E1%84%92%E1%85%A1%E1%84%80%E1%85%B5.ipynb\" target=\"_parent\"><img src=\"https://colab.research.google.com/assets/colab-badge.svg\" alt=\"Open In Colab\"/></a>"
      ]
    },
    {
      "cell_type": "markdown",
      "metadata": {
        "id": "yW3CpPMUCSpi"
      },
      "source": [
        "### 학습목표\n",
        " * 조건문의 이해 및 활용 (if)"
      ]
    },
    {
      "cell_type": "markdown",
      "metadata": {
        "id": "WsQsF206CSpo"
      },
      "source": [
        "#### condition (조건문)\n",
        " + 특정 조건을 만족하는 경우에만 수행할 작업이 있는 경우 사용\n",
        " + 모든 조건은 boolean으로 표현 됨 (예외 사항은 아래 배울 예정)\n",
        " + if, elif, else 키워드가 사용\n",
        " + 조건문의 경우 if, elif, else 블록에 종속된 코드는 들여쓰기로 표현 가능\n",
        " + 즉 아래코드에서와 같이, 조건문 아래에 들여쓰기된 2줄의 코드만이 조건문의 조건에 따라 수행될 수도, 수행되지 않을 수도 있는 코드라고 할 수 있음\n",
        " + 들여쓰기 된 코드를 블록(block), 또는 코드블록이라고 함\n",
        " + python에서 모든 블록의 시작점의 마지막에는 :(콜론, colon) 추가가 필요\n",
        "\n",
        "```python\n",
        "if 6 >= 5:\n",
        "    print ('6 is greater than 5')\n",
        "    print ('Yeah, it is true')\n",
        "print ('This code is not belongs to if statements')\n",
        "```"
      ]
    },
    {
      "cell_type": "code",
      "metadata": {
        "colab": {
          "base_uri": "https://localhost:8080/"
        },
        "id": "LtnSybxkCSpp",
        "outputId": "ef8ba5af-8f63-40e6-c0f0-f4846cd86564"
      },
      "source": [
        "if 6 >= 5:\n",
        "    print ('6 is greater than 5')\n",
        "    print ('Yeah, it is true')\n",
        "print ('This code is not belongs to if statements')"
      ],
      "execution_count": 2,
      "outputs": [
        {
          "output_type": "stream",
          "text": [
            "6 is greater than 5\n",
            "Yeah, it is true\n",
            "This code is not belongs to if statements\n"
          ],
          "name": "stdout"
        }
      ]
    },
    {
      "cell_type": "code",
      "metadata": {
        "colab": {
          "base_uri": "https://localhost:8080/"
        },
        "id": "lOaQC4tWC5yw",
        "outputId": "ecb12656-3495-4e88-acfd-12643830487f"
      },
      "source": [
        "if 6 == 5:\n",
        "    print ('6 is greater than 5')\n",
        "    print ('Yeah, it is true')\n",
        "print ('This code is not belongs to if statements')"
      ],
      "execution_count": 3,
      "outputs": [
        {
          "output_type": "stream",
          "text": [
            "This code is not belongs to if statements\n"
          ],
          "name": "stdout"
        }
      ]
    },
    {
      "cell_type": "markdown",
      "metadata": {
        "id": "V7IZLjq7CSpp"
      },
      "source": [
        "* Logical AND, OR, NOT \n",
        "  - 조건문에 사용되는 조건의 경우, boolean이기 때문에, 논리식 AND, OR, NOT 이 사용가능\n",
        "  - AND : and\n",
        "  - OR : or\n",
        "  - NOT : not\n",
        "  \n",
        "* 논리표 \n",
        "  - AND \n",
        "      - T AND T : T\n",
        "      - T AND F : F\n",
        "      - F AND T : F\n",
        "      - F AND F : F\n",
        "  - OR \n",
        "      - T OR T : T\n",
        "      - T OR F : T\n",
        "      - F OR T : T\n",
        "      - F OR F : F\n",
        "      \n",
        "  - NOT \n",
        "      - NOT T : F\n",
        "      - NOT F : T\n",
        "* 우선순위\n",
        "  - NOT > AND > OR"
      ]
    },
    {
      "cell_type": "code",
      "metadata": {
        "colab": {
          "base_uri": "https://localhost:8080/"
        },
        "id": "13c62EOxCSpq",
        "outputId": "6c476336-ba44-4bb3-81e5-5c1690569b9a"
      },
      "source": [
        "a = 10\n",
        "b = 8\n",
        "c = 11\n",
        "\n",
        "if a == 10 and b != 9 :\n",
        "  print(\"this is true\")\n",
        "\n",
        "if a == 10 or b == 9 :\n",
        "  print(\"this is true\")"
      ],
      "execution_count": 7,
      "outputs": [
        {
          "output_type": "stream",
          "text": [
            "this is true\n",
            "this is true\n"
          ],
          "name": "stdout"
        }
      ]
    },
    {
      "cell_type": "markdown",
      "metadata": {
        "id": "J-DUEZ4nCSpq"
      },
      "source": [
        "#### if의 조건이 bool이 아닌 경우\n",
        " * 일반적으로는 조건문에는 bool이 주로 위치 함\n",
        " * 하지만, 정수, 실수, 문자열 리스트 등 기본 타입도 조건에 사용 가능\n",
        " * False로 간주되는 값 (각 타입의 기본값)\n",
        "     * None\n",
        "     * 0\n",
        "     * 0.0\n",
        "     * ''\n",
        "     * [] -> 빈 리스트\n",
        "     * () -> 빈 튜플\n",
        "     * {} -> 빈 딕셔너리\n",
        "     * set() -> 빈 집합\n",
        " * 그밖에는 모두 True로 간주"
      ]
    },
    {
      "cell_type": "code",
      "metadata": {
        "colab": {
          "base_uri": "https://localhost:8080/"
        },
        "id": "C_t_rU2oCSpr",
        "outputId": "79b11bb5-9e6f-42b7-e60f-fda45389348e"
      },
      "source": [
        "a = 10 \n",
        "if a :\n",
        "  print(\"inner if statements\")"
      ],
      "execution_count": 8,
      "outputs": [
        {
          "output_type": "stream",
          "text": [
            "inner if statements\n"
          ],
          "name": "stdout"
        }
      ]
    },
    {
      "cell_type": "markdown",
      "metadata": {
        "id": "VPl9shcsCSpr"
      },
      "source": [
        "#### if, else\n",
        "  - if가 아닌 경우, 나머지 조건을 표현하고 싶다면 바로 아래 else 블락 사용\n",
        "  - 이 경우, if조건이 True인 경우, if 블락의 코드가 수행, 거짓인 경우 else 블락의 코드가 수행\n",
        "  - 주의 할 점 : if와 else사이에 다른 코드 삽입 불가"
      ]
    },
    {
      "cell_type": "code",
      "metadata": {
        "id": "1CCWbx-SCSpr"
      },
      "source": [
        ""
      ],
      "execution_count": null,
      "outputs": []
    },
    {
      "cell_type": "markdown",
      "metadata": {
        "id": "DNVjltsQCSps"
      },
      "source": [
        "#### if, elif, else\n",
        "  - 조건이 여러개인 경우, 다음 조건을 elif 블록에 명시 가능\n",
        "  - 이 경우, 각 조건을 확인 후, True인 조건의 코드 블락을 실행 한 후, 전체 if, elif, else 구문을 종료\n",
        "  - 조건문을 사용할 때는, if 이후, 0개 이상의 elif를 사용 가능하며 0개 또는 1개의 else를 사용 가능함\n",
        "\n",
        "```python\n",
        "a = 17\n",
        "if a % 4 == 0:\n",
        "    print 'a is divisible by 4'\n",
        "elif a % 4 == 1:\n",
        "    print 'a % 4 is 1'\n",
        "elif a % 4 == 2:\n",
        "    print 'a % 4 is 2'\n",
        "else:\n",
        "    print 'a % 4 is 3'\n",
        "```"
      ]
    },
    {
      "cell_type": "code",
      "metadata": {
        "colab": {
          "base_uri": "https://localhost:8080/"
        },
        "id": "6IctX0ycCSps",
        "outputId": "e0e94e3c-aeb0-4308-accd-da4e542696ba"
      },
      "source": [
        "a = 17\n",
        "if a % 4 == 0:\n",
        "    print('a is divisible by 4')\n",
        "elif a % 4 == 1:\n",
        "    print('a % 4 is 1')\n",
        "elif a % 4 == 2:\n",
        "    print('a % 4 is 2')\n",
        "else:\n",
        "    print('a % 4 is 3')"
      ],
      "execution_count": 11,
      "outputs": [
        {
          "output_type": "stream",
          "text": [
            "a % 4 is 1\n"
          ],
          "name": "stdout"
        }
      ]
    },
    {
      "cell_type": "markdown",
      "metadata": {
        "id": "taOapJnTCSps"
      },
      "source": [
        "#### 중첩 조건문(nested condition)\n",
        "  - 조건문의 경우 중첩하여 작성 가능\n",
        "  - 중첩의 의미는 depth(깊이)로 생각할 수 있으며, depth의 제한은 없음"
      ]
    },
    {
      "cell_type": "code",
      "metadata": {
        "colab": {
          "base_uri": "https://localhost:8080/"
        },
        "id": "nO-dNENvCSps",
        "outputId": "ed93a481-4932-4c0d-db01-2a76e001cb76"
      },
      "source": [
        "my_name = 'Ingyu lee'\n",
        "\n",
        "if len(my_name) > 0 :\n",
        "  if my_name[0] == 'I':\n",
        "    print(\"I\")\n"
      ],
      "execution_count": 12,
      "outputs": [
        {
          "output_type": "stream",
          "text": [
            "I\n"
          ],
          "name": "stdout"
        }
      ]
    },
    {
      "cell_type": "code",
      "metadata": {
        "id": "jdjI1gRjFJuW"
      },
      "source": [
        ""
      ],
      "execution_count": null,
      "outputs": []
    }
  ]
}